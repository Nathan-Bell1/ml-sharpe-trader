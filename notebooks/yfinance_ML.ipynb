{
 "cells": [
  {
   "cell_type": "markdown",
   "id": "7805e271",
   "metadata": {},
   "source": [
    "# ML-Powered Trader Bot"
   ]
  },
  {
   "cell_type": "markdown",
   "id": "13e43d43",
   "metadata": {},
   "source": [
    "Imported Libraries:"
   ]
  },
  {
   "cell_type": "code",
   "execution_count": 1,
   "id": "1d35a164",
   "metadata": {},
   "outputs": [],
   "source": [
    "import json\n",
    "import os\n",
    "import pandas as pd\n",
    "import yfinance as yf\n",
    "from datetime import datetime\n",
    "from sklearn.ensemble import RandomForestRegressor\n",
    "from sklearn.model_selection import train_test_split\n",
    "from sklearn.preprocessing import StandardScaler"
   ]
  },
  {
   "cell_type": "markdown",
   "id": "c393f602",
   "metadata": {},
   "source": [
    "## Getting the stocks in the S&P 500\n",
    "We simply scrape Wikipedia's list of S&P 500 stocks for the ticker symbols."
   ]
  },
  {
   "cell_type": "code",
   "execution_count": 2,
   "id": "9ad9d8fe",
   "metadata": {},
   "outputs": [
    {
     "name": "stdout",
     "output_type": "stream",
     "text": [
      "['MMM', 'AOS', 'ABT', 'ABBV', 'ACN', 'ADBE', 'AMD', 'AES', 'AFL', 'A', 'APD', 'ABNB', 'AKAM', 'ALB', 'ARE', 'ALGN', 'ALLE', 'LNT', 'ALL', 'GOOGL', 'GOOG', 'MO', 'AMZN', 'AMCR', 'AEE', 'AEP', 'AXP', 'AIG', 'AMT', 'AWK', 'AMP', 'AME', 'AMGN', 'APH', 'ADI', 'AON', 'APA', 'APO', 'AAPL', 'AMAT', 'APTV', 'ACGL', 'ADM', 'ANET', 'AJG', 'AIZ', 'T', 'ATO', 'ADSK', 'ADP', 'AZO', 'AVB', 'AVY', 'AXON', 'BKR', 'BALL', 'BAC', 'BAX', 'BDX', 'BRK-B', 'BBY', 'TECH', 'BIIB', 'BLK', 'BX', 'XYZ', 'BK', 'BA', 'BKNG', 'BSX', 'BMY', 'AVGO', 'BR', 'BRO', 'BF-B', 'BLDR', 'BG', 'BXP', 'CHRW', 'CDNS', 'CZR', 'CPT', 'CPB', 'COF', 'CAH', 'KMX', 'CCL', 'CARR', 'CAT', 'CBOE', 'CBRE', 'CDW', 'COR', 'CNC', 'CNP', 'CF', 'CRL', 'SCHW', 'CHTR', 'CVX', 'CMG', 'CB', 'CHD', 'CI', 'CINF', 'CTAS', 'CSCO', 'C', 'CFG', 'CLX', 'CME', 'CMS', 'KO', 'CTSH', 'COIN', 'CL', 'CMCSA', 'CAG', 'COP', 'ED', 'STZ', 'CEG', 'COO', 'CPRT', 'GLW', 'CPAY', 'CTVA', 'CSGP', 'COST', 'CTRA', 'CRWD', 'CCI', 'CSX', 'CMI', 'CVS', 'DHR', 'DRI', 'DDOG', 'DVA', 'DAY', 'DECK', 'DE', 'DELL', 'DAL', 'DVN', 'DXCM', 'FANG', 'DLR', 'DG', 'DLTR', 'D', 'DPZ', 'DASH', 'DOV', 'DOW', 'DHI', 'DTE', 'DUK', 'DD', 'EMN', 'ETN', 'EBAY', 'ECL', 'EIX', 'EW', 'EA', 'ELV', 'EMR', 'ENPH', 'ETR', 'EOG', 'EPAM', 'EQT', 'EFX', 'EQIX', 'EQR', 'ERIE', 'ESS', 'EL', 'EG', 'EVRG', 'ES', 'EXC', 'EXE', 'EXPE', 'EXPD', 'EXR', 'XOM', 'FFIV', 'FDS', 'FICO', 'FAST', 'FRT', 'FDX', 'FIS', 'FITB', 'FSLR', 'FE', 'FI', 'F', 'FTNT', 'FTV', 'FOXA', 'FOX', 'BEN', 'FCX', 'GRMN', 'IT', 'GE', 'GEHC', 'GEV', 'GEN', 'GNRC', 'GD', 'GIS', 'GM', 'GPC', 'GILD', 'GPN', 'GL', 'GDDY', 'GS', 'HAL', 'HIG', 'HAS', 'HCA', 'DOC', 'HSIC', 'HSY', 'HPE', 'HLT', 'HOLX', 'HD', 'HON', 'HRL', 'HST', 'HWM', 'HPQ', 'HUBB', 'HUM', 'HBAN', 'HII', 'IBM', 'IEX', 'IDXX', 'ITW', 'INCY', 'IR', 'PODD', 'INTC', 'ICE', 'IFF', 'IP', 'IPG', 'INTU', 'ISRG', 'IVZ', 'INVH', 'IQV', 'IRM', 'JBHT', 'JBL', 'JKHY', 'J', 'JNJ', 'JCI', 'JPM', 'K', 'KVUE', 'KDP', 'KEY', 'KEYS', 'KMB', 'KIM', 'KMI', 'KKR', 'KLAC', 'KHC', 'KR', 'LHX', 'LH', 'LRCX', 'LW', 'LVS', 'LDOS', 'LEN', 'LII', 'LLY', 'LIN', 'LYV', 'LKQ', 'LMT', 'L', 'LOW', 'LULU', 'LYB', 'MTB', 'MPC', 'MKTX', 'MAR', 'MMC', 'MLM', 'MAS', 'MA', 'MTCH', 'MKC', 'MCD', 'MCK', 'MDT', 'MRK', 'META', 'MET', 'MTD', 'MGM', 'MCHP', 'MU', 'MSFT', 'MAA', 'MRNA', 'MHK', 'MOH', 'TAP', 'MDLZ', 'MPWR', 'MNST', 'MCO', 'MS', 'MOS', 'MSI', 'MSCI', 'NDAQ', 'NTAP', 'NFLX', 'NEM', 'NWSA', 'NWS', 'NEE', 'NKE', 'NI', 'NDSN', 'NSC', 'NTRS', 'NOC', 'NCLH', 'NRG', 'NUE', 'NVDA', 'NVR', 'NXPI', 'ORLY', 'OXY', 'ODFL', 'OMC', 'ON', 'OKE', 'ORCL', 'OTIS', 'PCAR', 'PKG', 'PLTR', 'PANW', 'PARA', 'PH', 'PAYX', 'PAYC', 'PYPL', 'PNR', 'PEP', 'PFE', 'PCG', 'PM', 'PSX', 'PNW', 'PNC', 'POOL', 'PPG', 'PPL', 'PFG', 'PG', 'PGR', 'PLD', 'PRU', 'PEG', 'PTC', 'PSA', 'PHM', 'PWR', 'QCOM', 'DGX', 'RL', 'RJF', 'RTX', 'O', 'REG', 'REGN', 'RF', 'RSG', 'RMD', 'RVTY', 'ROK', 'ROL', 'ROP', 'ROST', 'RCL', 'SPGI', 'CRM', 'SBAC', 'SLB', 'STX', 'SRE', 'NOW', 'SHW', 'SPG', 'SWKS', 'SJM', 'SW', 'SNA', 'SOLV', 'SO', 'LUV', 'SWK', 'SBUX', 'STT', 'STLD', 'STE', 'SYK', 'SMCI', 'SYF', 'SNPS', 'SYY', 'TMUS', 'TROW', 'TTWO', 'TPR', 'TRGP', 'TGT', 'TEL', 'TDY', 'TER', 'TSLA', 'TXN', 'TPL', 'TXT', 'TMO', 'TJX', 'TKO', 'TTD', 'TSCO', 'TT', 'TDG', 'TRV', 'TRMB', 'TFC', 'TYL', 'TSN', 'USB', 'UBER', 'UDR', 'ULTA', 'UNP', 'UAL', 'UPS', 'URI', 'UNH', 'UHS', 'VLO', 'VTR', 'VLTO', 'VRSN', 'VRSK', 'VZ', 'VRTX', 'VTRS', 'VICI', 'V', 'VST', 'VMC', 'WRB', 'GWW', 'WAB', 'WBA', 'WMT', 'DIS', 'WBD', 'WM', 'WAT', 'WEC', 'WFC', 'WELL', 'WST', 'WDC', 'WY', 'WSM', 'WMB', 'WTW', 'WDAY', 'WYNN', 'XEL', 'XYL', 'YUM', 'ZBRA', 'ZBH', 'ZTS']\n"
     ]
    }
   ],
   "source": [
    "def get_sp500_tickers():\n",
    "    url = \"https://en.wikipedia.org/wiki/List_of_S%26P_500_companies\"\n",
    "    table = pd.read_html(url)[0]\n",
    "    return [ticker.replace(\".\",\"-\") for ticker in table['Symbol'].tolist()]\n",
    "\n",
    "print(get_sp500_tickers())"
   ]
  },
  {
   "cell_type": "markdown",
   "id": "f337d840",
   "metadata": {},
   "source": [
    "## Creating our Trading Engine\n",
    "\n",
    "The first step to creating our trading bot will be to simplify our variable usage by creating a trading class.\n",
    "\n",
    "We are using machine learning to calculate two metrics:\n",
    "1. Expected Return \n",
    "2. Volitility\n",
    "\n",
    "We will use these to calculate the Sharpe ratio for each stock.\n"
   ]
  },
  {
   "cell_type": "code",
   "execution_count": 3,
   "id": "a0d3c11e",
   "metadata": {},
   "outputs": [],
   "source": [
    "class TradingEngine:\n",
    "    def __init__(self, balance=100_000):\n",
    "        self.balance = balance\n",
    "        self.portfolio = {}\n",
    "\n",
    "    def fetch_data(self, ticker, period=\"1y\", interval=\"1d\"):\n",
    "        df = yf.download(ticker, period=period, interval=interval, auto_adjust=True, progress=False)\n",
    "        df.dropna(inplace=True)\n",
    "        df['Return'] = df['Close'].pct_change()\n",
    "\n",
    "        # Targets for ML\n",
    "        df['ReturnTarget'] = df['Return'].shift(-1)                          # Predict tomorrow's return\n",
    "        df['VolatilityTarget'] = df['Return'].rolling(5).std().shift(-1)    # Predict 5-day forward-looking volatility\n",
    "\n",
    "        df.dropna(inplace=True)\n",
    "        return df\n",
    "\n",
    "    def train_models(self, df):\n",
    "        features = ['Open', 'High', 'Low', 'Close', 'Volume']\n",
    "        X = df[features]\n",
    "\n",
    "        y_return = df['ReturnTarget']\n",
    "        y_vol = df['VolatilityTarget']\n",
    "\n",
    "        X_train, X_test, y_train_r, y_test_r = train_test_split(X, y_return, test_size=0.2, shuffle=False)\n",
    "        _, _, y_train_v, y_test_v = train_test_split(X, y_vol, test_size=0.2, shuffle=False)\n",
    "\n",
    "\n",
    "        scaler = StandardScaler()\n",
    "        X_train_scaled = scaler.fit_transform(X_train)\n",
    "        X_test_scaled = scaler.transform(X_test)\n",
    "\n",
    "        model_return = RandomForestRegressor(n_estimators=100, random_state=42)\n",
    "        model_vol = RandomForestRegressor(n_estimators=100, random_state=42)\n",
    "\n",
    "        model_return.fit(X_train_scaled, y_train_r)\n",
    "        model_vol.fit(X_train_scaled, y_train_v)\n",
    "\n",
    "        return model_return, model_vol, scaler\n",
    "\n",
    "    def predict_sharpe(self, model_return, model_vol, scaler, df):\n",
    "        latest = df[['Open', 'High', 'Low', 'Close', 'Volume']].iloc[-1:]\n",
    "        X_latest = scaler.transform(latest)\n",
    "\n",
    "        pred_return = model_return.predict(X_latest)[0]\n",
    "        pred_vol = model_vol.predict(X_latest)[0]\n",
    "\n",
    "        # Avoid divide-by-zero\n",
    "        if pred_vol == 0:\n",
    "            return -999  # Very bad Sharpe score\n",
    "\n",
    "        sharpe = pred_return / pred_vol\n",
    "        return sharpe\n",
    "\n",
    "    def rank_stocks(self, tickers):\n",
    "        scores = []\n",
    "        for ticker in tickers:\n",
    "            try:\n",
    "                df = self.fetch_data(ticker)\n",
    "                model_return, model_vol, scaler = self.train_models(df)\n",
    "                sharpe = self.predict_sharpe(model_return, model_vol, scaler, df)\n",
    "                scores.append((ticker, sharpe))\n",
    "            except Exception as e:\n",
    "                print(f\"Error with {ticker}: {e}\")\n",
    "        ranked = sorted(scores, key=lambda x: x[1], reverse=True)\n",
    "        return ranked\n",
    "    \n",
    "    def save_rankings_for_alpaca(self, df_ranked):\n",
    "        try:\n",
    "            if not os.path.exists('shared_data'):\n",
    "                os.makedirs('shared_data')\n",
    "            \n",
    "            rankings = []\n",
    "            for _, row in df_ranked.iterrows():\n",
    "                rankings.append({\n",
    "                    'ticker': row['Ticker'],\n",
    "                    'sharpe_ratio': float(row['SharpeRatio'])\n",
    "                })\n",
    "            \n",
    "            timestamp = datetime.now().strftime(\"%Y%m%d_%H%M%S\")\n",
    "            filename = f'shared_data/rankings_{timestamp}.json'\n",
    "            \n",
    "            with open(filename, 'w') as f:\n",
    "                json.dump(rankings, f, indent=2)\n",
    "            \n",
    "            print(f\"Rankings saved to {filename} for Alpaca trading\")\n",
    "            return filename\n",
    "            \n",
    "        except Exception as e:\n",
    "            print(f\"Error saving rankings: {e}\")\n",
    "            return None"
   ]
  },
  {
   "cell_type": "markdown",
   "id": "588ed051",
   "metadata": {},
   "source": [
    "## Main File"
   ]
  },
  {
   "cell_type": "code",
   "execution_count": 4,
   "id": "79f67c16",
   "metadata": {},
   "outputs": [
    {
     "name": "stdout",
     "output_type": "stream",
     "text": [
      "  Ticker  SharpeRatio\n",
      "0   ALGN     1.548071\n",
      "1    ACN     0.928442\n",
      "2    AFL     0.525377\n",
      "3    APA     0.455604\n",
      "4    AJG     0.451385\n",
      "5    AMP     0.289236\n",
      "6   AMGN     0.285553\n",
      "7   ACGL     0.276913\n",
      "8    ADI     0.260045\n",
      "9   AKAM     0.258204\n",
      "Rankings saved to shared_data/rankings_20250804_215843.json for Alpaca trading\n"
     ]
    }
   ],
   "source": [
    "if __name__ == \"__main__\":\n",
    "    tickers = get_sp500_tickers()\n",
    "    engine = TradingEngine()\n",
    "\n",
    "    ranked_stocks = engine.rank_stocks(tickers[:50])\n",
    "    \n",
    "    df_ranked = pd.DataFrame(ranked_stocks, columns=['Ticker', 'SharpeRatio'])\n",
    "    df_ranked = df_ranked.sort_values(by='SharpeRatio', ascending=False)\n",
    "    df_ranked = df_ranked.head(10)\n",
    "    \n",
    "    print(df_ranked)\n",
    "\n",
    "    engine.save_rankings_for_alpaca(df_ranked)"
   ]
  }
 ],
 "metadata": {
  "kernelspec": {
   "display_name": "yfinance_env",
   "language": "python",
   "name": "python3"
  },
  "language_info": {
   "codemirror_mode": {
    "name": "ipython",
    "version": 3
   },
   "file_extension": ".py",
   "mimetype": "text/x-python",
   "name": "python",
   "nbconvert_exporter": "python",
   "pygments_lexer": "ipython3",
   "version": "3.10.18"
  }
 },
 "nbformat": 4,
 "nbformat_minor": 5
}
